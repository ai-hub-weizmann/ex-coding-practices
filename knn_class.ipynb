{
 "cells": [
  {
   "cell_type": "markdown",
   "metadata": {},
   "source": [
    "<div align=\"center\">\n",
    "    <h1>Classes, unit tests and other good coding practices 👌 </h1>\n",
    "    <h3> Weizmann AI Hub for Scientific Discovery </h3>\n",
    "    <h4>Nathan LEVY</h4>\n",
    "    nathan.levy@weizmann.ac.il\n",
    "    <p>with inputs from M.Kim</p>\n",
    "    <p>Summer 2024</p>\n",
    "</div>"
   ]
  },
  {
   "cell_type": "markdown",
   "metadata": {},
   "source": [
    "The goal of this tutorial is to build a Python package for k-nn classification. We will implement the k-nn algorithm, write unit tests for it, and package it in a clean and organized way.\n",
    "\n",
    "Specifically, we will cover the following topics:\n",
    "- Code linting and formatting (using `ruff`)\n",
    "- Code documentation (using docstrings)\n",
    "- Unit tests (using the `unittest` module)\n",
    "- Object-oriented programming (developing the knn classifier as a class inspired by scikit-learn architecture)\n",
    "- Package management (using `pyproject.toml`)\n",
    "\n",
    "\n",
    "Overall, the goal of this tutorial is to provide a hands-on experience with good coding practices and to give you the tools to develop your own Python packages - $escaping~from~Jupyter~ notebooks!$ 🎉"
   ]
  },
  {
   "cell_type": "markdown",
   "metadata": {},
   "source": [
    "💡 This tutorial is built for everyone in the hub and does not assume specific knowledge apart from Python programming. We assume that you already solved the  `ex-home-knn` prior to start this tutorial.\n",
    "\n",
    "💡 We will not cover version control tools (Git) but we highly encourage you to start a git repository for this project. \n",
    "\n",
    "💡 We recommend using VSCode GUI for this project, and getting familiar with the [debugger](https://code.visualstudio.com/docs/editor/debugging). You may check the [VSCode on WEXAC](https://hpcwiki.weizmann.ac.il/en/home/ai_hub) wiki section."
   ]
  },
  {
   "cell_type": "markdown",
   "metadata": {},
   "source": [
    "Over the course of its development, Python experienced many enhancements and new features, detailed in PEPs (Python Enhancement Proposals). For instance:\n",
    "\n",
    "- PEP 8 is a style guide which introduced naming styles, indentation, and other conventions, cf [PEP 8](https://realpython.com/python-pep8/#toc)\n",
    "- PEP 257 is a docstring convention, cf [PEP 257](https://peps.python.org/pep-0257/)\n",
    "\n",
    "You may briefly look at these PEPs. In this tutorial we will see how to use dedicated tools named _linters_ to make your code compliant with these conventions!"
   ]
  },
  {
   "cell_type": "markdown",
   "metadata": {},
   "source": [
    "## 2. Linting your code with `ruff`"
   ]
  },
  {
   "cell_type": "markdown",
   "metadata": {},
   "source": [
    "Linting is the process of checking the source code for programmatic and stylistic errors. Linters are tools that perform static analysis on your code to find potential errors, bugs, and stylistic issues. Linters can help you catch bugs early in the development process, and ensure that your code is clean, readable, and maintainable. In our case, we will use `ruff`.\n",
    "\n",
    "First of all, we need to install `ruff`: if you are working with VSCODE, you can install the extension `ruff` directly from the marketplace. If not simply add it to your environment with `pip install ruff`.\n",
    "\n",
    "Ruff can check for more than 800 rules, that are listed in the [ruff documentation](https://docs.astral.sh/ruff/rules/). \n",
    "You can specify them in the ruff config file `ruff.toml`. To begin with you can use the default rules, which correspond to the F and E rules in the documentation and are sufficient to cover most common errors. \n",
    "\n",
    "- We reproduced the [tutorial](https://docs.astral.sh/ruff/tutorial/#getting-started) example file in `example_ruff.py`. You can run the linting with the following command:\n",
    "\n",
    "    `ruff check example_ruff.py`\n",
    "\n",
    "    You can also run the linting on a whole directory with:\n",
    "\n",
    "    `ruff check .`\n",
    "\n",
    "- You can then fix the auto-fixable errors: \n",
    "\n",
    "     `ruff check --fix .`\n",
    "\n",
    "- And finally format your files so that all lines are less than the line length you provided: \n",
    "\n",
    "    `ruff format .`"
   ]
  },
  {
   "cell_type": "markdown",
   "metadata": {},
   "source": [
    "<div class=\"alert alert-block alert-info\">\n",
    "<b>Task 1</b>\n",
    "<p>Run the linting on the example_ruff.py file. What are the errors? Are they fixable? How does the file look like after formatting?</p>\n",
    "</div>"
   ]
  },
  {
   "cell_type": "markdown",
   "metadata": {},
   "source": [
    "## 3. Type hints and documentation "
   ]
  },
  {
   "cell_type": "markdown",
   "metadata": {},
   "source": [
    "As you can see in the `example_ruff.py` file, we have added type hints to the arguments and output of the function `sum_even_numbers`. Type hints are a way to specify the type of a variable in Python, and they can be used to make your code more readable and maintainable. Let's explain the annotations in `sum_even_numbers(numbers: Iterable[int]) -> int`:\n",
    "\n",
    "- `numbers: Iterable[int]` specifies that the argument `numbers` is an iterable of integers. The `Iterable` type hint is a generic type hint that specifies that the argument is an iterable, and the `[int]` part specifies that the elements of the iterable are integers.\n",
    "\n",
    "- `-> int` specifies that the return value of the function is an integer.\n",
    "\n",
    "Built-in types in python are:\n",
    "- `int`: integer\n",
    "- `float`: floating point number\n",
    "- `str`: string\n",
    "- `bool`: boolean\n",
    "- `list`: list\n",
    "- `tuple`: tuple\n",
    "- `dict`: dictionary\n",
    "- `set`: set\n",
    "\n",
    "You can also use the `typing` module to specify more complex types. For instance `Iterable` to specify that a variable is an iterable. You can read more about type hints in the [cheat sheet](https://mypy.readthedocs.io/en/stable/cheat_sheet_py3.html).\n",
    "\n",
    "<div class=\"alert alert-block alert-info\">\n",
    "<b>Task 2</b>\n",
    "<p>I have a function that takes a list of strings and returns the maximum length. How would you annotate it? What if the function returns both min and max lenghts? </p>\n",
    "</div>"
   ]
  },
  {
   "cell_type": "markdown",
   "metadata": {},
   "source": [
    "We have also added a one-line docstring to the function `sum_even_numbers`. A docstring is a string that appears at the beginning of a module, class, or function definition, and it is used to document the purpose and usage of the code. They should be enclosed in triple quotes, and they can span multiple lines. We'll use the numpy convention. To enforce it, we simply added a `[lint.pydocstyle]` section in the `ruff.toml` file:\n",
    "\n",
    "```\n",
    "[lint.pydocstyle]\n",
    "convention = \"numpy\"\n",
    "```\n",
    "\n",
    "For a function, the docstring should contain the following information:\n",
    "- A brief description of what the function does\n",
    "- A description of the arguments and their types\n",
    "- A description of the return value and its type\n",
    "\n",
    "You can read how to write docstrings in the numpy convention [here](https://numpydoc.readthedocs.io/en/latest/format.html).\n",
    "\n",
    "\n",
    "<div class=\"alert alert-block alert-info\">\n",
    "<b>Task 3</b>\n",
    "<p>Complete the docstrings in test_ruff.py. Run ruff again. </p>\n",
    "</div>"
   ]
  },
  {
   "cell_type": "markdown",
   "metadata": {},
   "source": [
    "## 4. Classes\n",
    "\n",
    "Python is an object-oriented programming language, which means that it supports classes and objects. You should first review the basic concepts of object-oriented programming by reading this presentation: [Object-oriented programming](https://realpython.com/python-classes/#getting-started-with-python-classes) until \"Using Inheritance and Building Class Hierarchies - Simple Inheritance\".\n",
    "\n",
    "\n",
    "Let's play a bit with the example given in the tutorial: in the `car_class.py` file, we build a `Vehicle` class and a `Car` class that inherits from the `Vehicle` class. Make sure to understand the `super()` function by reading this [explanation](https://realpython.com/python-super/). \n",
    "\n",
    "\n",
    "If you completed the _Type hints and documentation_ section, please add the docstrings and type hints to the classes and methods 😌. "
   ]
  },
  {
   "cell_type": "code",
   "execution_count": 2,
   "metadata": {},
   "outputs": [],
   "source": [
    "from car_class import Car\n",
    "# auto = Car(...)"
   ]
  },
  {
   "cell_type": "markdown",
   "metadata": {},
   "source": [
    "<div class=\"alert alert-block alert-info\">\n",
    "<b>Task 4</b>\n",
    "<p>Add two arguments to the Car: fuel_capacity (how many liters in the tank) and efficiency (oil consumption per 100km). Then add a method called range, taking as argument fuel_level (how many liters left) and computing the range of the car based on fuel level and efficiency.</p>\n",
    "</div>"
   ]
  },
  {
   "cell_type": "markdown",
   "metadata": {},
   "source": [
    "## 5. Unit testing\n",
    "\n",
    "💡 The part about _Classes_ needs to be completed first.\n",
    "\n",
    "We're diving into unit testing. Imagine you're building a LEGO masterpiece 🏗️: unit testing is like checking each brick before you snap it into place. In the coding universe, a \"unit\" is like the atom of your program - the smallest bit that can stand on its own. In object-oriented programming, think of a unit as a single method in a class.\n",
    "\n",
    "Tests are the quality control making sure your code is pitch-perfect before it hits the big stage. Let's get testing! 💪🧪"
   ]
  },
  {
   "cell_type": "markdown",
   "metadata": {},
   "source": [
    "We will use the `unittest` module, which is part of the Python standard library. Full documentation can be found [here](https://docs.python.org/3/library/unittest.html), but we'll cover the basics. \n",
    "\n",
    "- we group a set of tests in a _testcase_, a class that inherits from `unittest.TestCase`. \n",
    "- each test is a method of this class that starts with `test_`.\n",
    "- we use the `assert` statement to check if the output of a function is what we expect. It raises an `AssertionError` if the condition is not met. We write it as `assert CONDTION, MESSAGE if condtion not met`.\n",
    "\n",
    "In the `test_car.py` file, we have written a testcase for the `Car` class. We have tested the `range` method. \n",
    "\n",
    "The `unittest` module can be run using command line:\n",
    "\n",
    "`python -m unittest test_car_class.py` #to run all tests in the file\n",
    "\n",
    "`python -m unittest test_car_class.TestCar` #to run a specific testcase\n",
    "\n",
    "`python -m unittest test_car_class.TestCar.test_range` #to run a specific test"
   ]
  },
  {
   "cell_type": "markdown",
   "metadata": {},
   "source": [
    "<div class=\"alert alert-block alert-info\">\n",
    "<b>Task 5</b>\n",
    "<p>Run the testcase for the Car. Add a new test making sure that the number of seats is greater than zero. </p>\n",
    "</div>"
   ]
  },
  {
   "cell_type": "markdown",
   "metadata": {},
   "source": [
    "## 6. Application: build a k-nn classifier"
   ]
  },
  {
   "cell_type": "markdown",
   "metadata": {},
   "source": [
    "We now put all these concepts together to build a k-nn classifier, inspired by the scikit-learn package - which is a good example of object-oriented programming in Python.\n",
    "\n",
    "\n",
    "We will build a class `KNeighborsClassifier` inspired by the [scikit-learn](https://scikit-learn.org/stable/modules/generated/sklearn.neighbors.KNeighborsClassifier.html) architecture. \n",
    "\n",
    "\n",
    "The class is built in the `knn.py` file and needs the following methods:\n",
    "\n",
    "- `__init__(self, n_neighbors: int = 5)`: the constructor of the class, taking as argument the number of neighbors to consider. The default value is 5.\n",
    "\n",
    "- `fit(self, X: np.ndarray, y: np.ndarray) -> None`: a method to fit the model on the data. `X` is a 2D numpy array of shape `(n_samples, n_features)` and `y` is a 1D numpy array of shape `(n_samples,)`.\n",
    "\n",
    "- `predict(self, X: np.ndarray) -> np.ndarray`: a method to predict the labels of the data. `X` is a 2D numpy array of shape `(n_samples, n_features)` and the output is a 1D numpy array of shape `(n_samples,)`.\n",
    "\n",
    "- `predict_proba(self, X: np.ndarray) -> np.ndarray`: a method to predict the probabilities of the labels. `X` is a 2D numpy array of shape `(n_samples, n_features)` and the output is a 2D numpy array of shape `(n_samples, n_classes)`.\n",
    "\n",
    "- `score(self, X: np.ndarray, y: np.ndarray) -> float`: a method to compute the accuracy of the model on the data. `X` is a 2D numpy array of shape `(n_samples, n_features)` and `y` is a 1D numpy array of shape `(n_samples,)`."
   ]
  },
  {
   "cell_type": "markdown",
   "metadata": {},
   "source": [
    "<div class=\"alert alert-block alert-info\">\n",
    "<b>Task 6</b>\n",
    "<p></p>\n",
    "</div>"
   ]
  },
  {
   "cell_type": "markdown",
   "metadata": {},
   "source": [
    "\n",
    "A Python package is a directory that contains a special file called `__init__.py`. This file can be empty, but it is necessary to tell Python that the directory should be considered a package. The package directory can also contain other Python files, modules, and subpackages."
   ]
  },
  {
   "cell_type": "markdown",
   "metadata": {},
   "source": [
    "We'll use again the IRIS dataset, that you can visualize [here](https://scikit-learn.org/stable/auto_examples/datasets/plot_iris_dataset.html)."
   ]
  },
  {
   "cell_type": "markdown",
   "metadata": {},
   "source": [
    "## BONUSES"
   ]
  },
  {
   "cell_type": "markdown",
   "metadata": {},
   "source": [
    "## Package structure in Python"
   ]
  },
  {
   "cell_type": "markdown",
   "metadata": {},
   "source": [
    "A Python package is a way of organizing related Python code into a directory hierarchy. Most of the tools that you use in Python like NumPy, Pandas are organized as Python packages. Packages can be installed using package managers like pip, and are often distributed through the Python Package Index [PyPI](https://pypi.org/). This system allows Python developers to easily share and reuse code across projects and with the wider Python community.\n",
    "\n",
    "The `pyproject.toml` file was introduced in [PEP 518](https://pip.pypa.io/en/stable/reference/build-system/pyproject-toml/).  It is the configuration file for a package. It is used to specify the project's dependencies, build system, and other configuration options. \n",
    "\n",
    "\n",
    "It needs to be located at the root of the project directory and has 3 main sections: `[build-system]`, `[project]`, and `[tool]`.\n",
    "\n",
    "##### 1. `[build-system]` section\n",
    "\n",
    "This section specifies specifies the build backend to be used. A build backend for a Python package is a tool or system that handles the process of building, packaging, and preparing your Python project for distribution. Here we will use default Hatchling as a build backend  - so you can let this section as is.\n",
    "\n",
    "\n",
    "##### 2. `[project]` section\n",
    "\n",
    "This section specifies the project's metadata. You can fill the following fields:\n",
    "- `name`: the name of the project (as it will appear when you want to install it with pip)\n",
    "- `version`: the version of the project\n",
    "- `description`: a one-line description of the project\n",
    "- `readme`: the path to the README file\n",
    "- `requires-python`: the minimum Python version supported by the project\n",
    "- `authors`: the authors of the project\n",
    "- `license`: the license of the project\n",
    "- `dependencies`: the dependencies of the project\n",
    "- `urls`: the URLs of the project, i.e. a public git repository\n",
    "\n",
    "\n",
    "The non-trivial field is the `dependencies` field. It specifies the dependencies of the project, i.e. the packages that need to be installed in order to use the project. For instance, if you want to specify that you need `numpy` and `scipy` to run your project, you can write:\n",
    "\n",
    "`dependencies = [\"numpy\", \"scipy\"]`\n",
    "\n",
    "You can also specify the version of the dependencies that you need. For instance, if you need `numpy` version greater or equal to 1.20.0 and `scipy` version 1.6.0, you can write:\n",
    "\n",
    "`dependencies = [\"numpy>=1.20.0\", \"scipy==1.6.0\"]`\n",
    "\n",
    "\n",
    "We'll fill this field as we progress on our project.\n",
    "\n",
    "We also specify optional dependencies, which are needed only for specific features of our package. In our case, the package required to run the tests. In our case we will need `pytest` later in the tutorial, so we write: \n",
    "\n",
    "```\n",
    "[project.optional-dependencies]\n",
    "test = [\"pytest\"]\n",
    "```\n",
    "\n",
    "##### 3. `[tool]` section\n",
    "\n",
    "In this last part, we have to specify the details of external tools that we'll need. For our project, we want to do **linting**. Linting is the process of checking the source code for programmatic and stylistic errors. Linters are tools that perform static analysis on your code to find potential errors, bugs, and stylistic issues. Linters can help you catch bugs early in the development process, and ensure that your code is clean, readable, and maintainable. In our case, we will use `ruff`. Let's have a short overview of this tool before filling the `[tool]` section."
   ]
  },
  {
   "cell_type": "markdown",
   "metadata": {},
   "source": [
    "### B1. Build the package\n",
    "\n",
    "https://docs.google.com/presentation/d/1AKVx6vlzv6sAVBoyT7gLJnJtRaNXMFf1/edit#slide=id.p22"
   ]
  },
  {
   "cell_type": "markdown",
   "metadata": {},
   "source": [
    "### B2. More guidelines\n",
    "\n",
    "https://www.datacamp.com/tutorial/coding-best-practices-and-guidelines"
   ]
  }
 ],
 "metadata": {
  "kernelspec": {
   "display_name": "scvi",
   "language": "python",
   "name": "python3"
  },
  "language_info": {
   "codemirror_mode": {
    "name": "ipython",
    "version": 3
   },
   "file_extension": ".py",
   "mimetype": "text/x-python",
   "name": "python",
   "nbconvert_exporter": "python",
   "pygments_lexer": "ipython3",
   "version": "3.11.4"
  }
 },
 "nbformat": 4,
 "nbformat_minor": 2
}
