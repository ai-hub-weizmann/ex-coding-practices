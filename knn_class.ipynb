{
 "cells": [
  {
   "cell_type": "markdown",
   "metadata": {},
   "source": [
    "<div align=\"center\">\n",
    "    <h1>Classes, unit tests and other good coding practises</h1>\n",
    "    <h3> Weizmann AI Hub for Scientific Discovery </h3>\n",
    "    <h4>Nathan LEVY</h4>\n",
    "    nathan.levy@weizmann.ac.il\n",
    "    <p>with inputs from M.Kim</p>\n",
    "    <p>Summer 2024</p>\n",
    "</div>"
   ]
  },
  {
   "cell_type": "markdown",
   "metadata": {},
   "source": [
    "The goal of this tutorial is to build a Python package for k-nn classification. We will implement the k-nn algorithm, write unit tests for it, and package it in a clean and organized way.\n",
    "\n",
    "Specifically, we will cover the following topics:\n",
    "- Object-oriented programming (developing the knn classifier as a class inspired by scikit-learn architecture)\n",
    "- Unit tests (using the `unittest` module)\n",
    "- Package management (using `pyproject.toml`)\n",
    "- Code documentation (using docstrings)\n",
    "- Code linting and formatting (using `ruff`)\n",
    "\n",
    "\n",
    "Overall, the goal of this tutorial is to provide a hands-on experience with good coding practices and to give you the tools to develop your own Python packages - $escaping~from~Jupyter~ notebooks!$"
   ]
  },
  {
   "cell_type": "markdown",
   "metadata": {},
   "source": [
    "💡 This tutorial is built for everyone in the hub and does not assume specific knowledge apart from Python programming. We assume that you already solved the  `ex-home-knn` prior to start this tutorial"
   ]
  },
  {
   "cell_type": "markdown",
   "metadata": {},
   "source": [
    "Over the course of its development, Python experienced many enhancements and new features, detailed in PEPs (Python Enhancement Proposals). For instance:\n",
    "\n",
    "- PEP 8 is a style guide which introduced naming styles, indentation, and other conventions, cf https://realpython.com/python-pep8/#toc\n",
    "- PEP 257 is a docstring convention, cf https://peps.python.org/pep-0257/\n",
    "\n",
    "You can birefly look at these PEPs. In this tutorial we will see how to use dedicated tools to make your code compliant with these conventions!"
   ]
  },
  {
   "cell_type": "markdown",
   "metadata": {},
   "source": [
    "## Package structure in Python\n",
    "\n",
    "We will organize our code as a Python package, i.e., a directory containing Python modules, that we can later install with  `pip` and import in other projects.\n",
    "\n",
    "\n",
    "The `pyproject.toml` file was introduced in PEP 518. https://pip.pypa.io/en/stable/reference/build-system/pyproject-toml/\n",
    "\n",
    "It is the single configuration file for our package. It is used to specify the project's dependencies, build system, and other configuration options. It needs to be located at the root of the project directory."
   ]
  },
  {
   "cell_type": "markdown",
   "metadata": {},
   "source": [
    "## Linting your code with `ruff`\n",
    "\n",
    "https://docs.astral.sh/ruff/tutorial/\n",
    "\n",
    "https://docs.astral.sh/ruff/configuration/\n",
    "\n",
    "https://dev-to.translate.goog/ken_mwaura1/enhancing-python-code-quality-a-comprehensive-guide-to-linting-with-ruff-3d6g?_x_tr_sl=en&_x_tr_tl=fr&_x_tr_hl=fr&_x_tr_pto=sc"
   ]
  },
  {
   "cell_type": "markdown",
   "metadata": {},
   "source": [
    "## Classes"
   ]
  },
  {
   "cell_type": "markdown",
   "metadata": {},
   "source": [
    "## Documentation \n",
    "\n",
    "https://www.datacamp.com/tutorial/documenting-python-code"
   ]
  },
  {
   "cell_type": "markdown",
   "metadata": {},
   "source": [
    "## Unit testing\n",
    "\n",
    "\n",
    "https://www.datacamp.com/tutorial/coding-best-practices-and-guidelines"
   ]
  },
  {
   "cell_type": "markdown",
   "metadata": {},
   "source": [
    "## Application: build a k-nn classifier"
   ]
  },
  {
   "cell_type": "markdown",
   "metadata": {},
   "source": [
    "https://scikit-learn.org/1.5/auto_examples/datasets/plot_iris_dataset.html"
   ]
  },
  {
   "cell_type": "markdown",
   "metadata": {},
   "source": [
    "## Build the package"
   ]
  }
 ],
 "metadata": {
  "kernelspec": {
   "display_name": "scvi",
   "language": "python",
   "name": "python3"
  },
  "language_info": {
   "codemirror_mode": {
    "name": "ipython",
    "version": 3
   },
   "file_extension": ".py",
   "mimetype": "text/x-python",
   "name": "python",
   "nbconvert_exporter": "python",
   "pygments_lexer": "ipython3",
   "version": "3.11.4"
  }
 },
 "nbformat": 4,
 "nbformat_minor": 2
}
